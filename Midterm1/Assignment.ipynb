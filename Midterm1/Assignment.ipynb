{
 "cells": [
  {
   "attachments": {},
   "cell_type": "markdown",
   "metadata": {},
   "source": [
    "# Midterm 1 Assignment 6"
   ]
  },
  {
   "attachments": {},
   "cell_type": "markdown",
   "metadata": {},
   "source": [
    "#### Various Imports"
   ]
  },
  {
   "cell_type": "code",
   "execution_count": null,
   "metadata": {},
   "outputs": [],
   "source": [
    "import numpy as np\n",
    "import cv2\n",
    "from matplotlib import pyplot as plt"
   ]
  },
  {
   "attachments": {},
   "cell_type": "markdown",
   "metadata": {},
   "source": [
    "# Implementation of necessary methods"
   ]
  },
  {
   "attachments": {},
   "cell_type": "markdown",
   "metadata": {},
   "source": [
    "### Convolution Method"
   ]
  },
  {
   "cell_type": "code",
   "execution_count": null,
   "metadata": {},
   "outputs": [],
   "source": [
    "def img_filter_convolution(image, filter, padtype=cv2.BORDER_REPLICATE):\n",
    "    x_size, y_size = image.shape\n",
    "    filter_size = filter.shape[0]\n",
    "    padding = filter_size//2\n",
    "    padded_image = cv2.copyMakeBorder(image, padding, padding, padding, padding, padtype)\n",
    "    filtered_img = np.zeros((x_size, y_size))\n",
    "\n",
    "    for x in range(x_size):\n",
    "        for y in range(y_size):\n",
    "            filtered_img[x, y] = (padded_image[x: x+filter_size, y:y+filter_size] * filter).sum()\n",
    "    return filtered_img"
   ]
  },
  {
   "cell_type": "markdown",
   "metadata": {},
   "source": [
    "### Gaussian Filter Implementation\n",
    "Implemented just for testing purposes"
   ]
  },
  {
   "cell_type": "code",
   "execution_count": null,
   "metadata": {},
   "outputs": [],
   "source": [
    "def gaussian_filter(scale, size=None):\n",
    "    if size is None:\n",
    "        size = int(2 * np.ceil(3*scale)) + 1\n",
    "    v = np.arange((-size // 2) + 1, (size // 2) + 1)\n",
    "    print(v)\n",
    "    x = v * np.ones((size, size))\n",
    "    y = x.T\n",
    "    filter = 1/(2*np.pi*scale**2) * np.exp(-(x*x + y*y)/(2*scale**2))\n",
    "    return filter"
   ]
  },
  {
   "attachments": {},
   "cell_type": "markdown",
   "metadata": {},
   "source": [
    "### LoG Filter Implementation"
   ]
  },
  {
   "cell_type": "code",
   "execution_count": null,
   "metadata": {},
   "outputs": [],
   "source": [
    "def LoG(scale, size=None):\n",
    "    if size is None:\n",
    "        size = int(2 * np.ceil(3*scale)) + 1\n",
    "    v = np.arange((-size // 2) + 1, (size // 2) + 1)\n",
    "    x = v * np.ones((size, size))\n",
    "    y = x.T\n",
    "    gaussian = 1/(2*np.pi*scale**2) * np.exp(-(x*x + y*y)/(2*scale**2))\n",
    "    log_filter = ((x*x + y*y)/(scale**4) - 2/(scale**2))*gaussian\n",
    "    return log_filter\n"
   ]
  },
  {
   "attachments": {},
   "cell_type": "markdown",
   "metadata": {},
   "source": [
    "### Blob Detection Implementation"
   ]
  },
  {
   "cell_type": "code",
   "execution_count": null,
   "metadata": {},
   "outputs": [],
   "source": [
    "def blob_detection(image, scale):\n",
    "    filter = LoG(scale)\n",
    "    output_image = img_filter_convolution(image, filter)\n",
    "    return output_image"
   ]
  },
  {
   "attachments": {},
   "cell_type": "markdown",
   "metadata": {},
   "source": [
    "## Workflow for a single image"
   ]
  },
  {
   "cell_type": "code",
   "execution_count": null,
   "metadata": {},
   "outputs": [],
   "source": [
    "image = cv2.imread(\"/home/davide/uni/ISPR-Midterms/Midterm1/MSRC_ObjCategImageDatabase_v1/1_11_s.bmp\")\n",
    "image = cv2.cvtColor(image, cv2.COLOR_BGR2RGB)\n",
    "gray = cv2.cvtColor(image, cv2.COLOR_RGB2GRAY)\n",
    "\n",
    "plt.imshow(gray, cmap=\"gray\")\n",
    "plt.show()"
   ]
  },
  {
   "attachments": {},
   "cell_type": "markdown",
   "metadata": {},
   "source": [
    "Run blob detection on the image at a given scale"
   ]
  },
  {
   "cell_type": "code",
   "execution_count": null,
   "metadata": {},
   "outputs": [],
   "source": [
    "scale = 10\n",
    "tmp = blob_detection(gray, scale)\n",
    "plt.imshow(tmp, cmap=\"gray\")\n",
    "plt.show()"
   ]
  },
  {
   "attachments": {},
   "cell_type": "markdown",
   "metadata": {},
   "source": [
    "Normalize values in the image between 0 and 255 to make it easier to threshold image later. <br>\n",
    "Then, threshold image at a given threshold. This binary image will serve as the basis of blob detection."
   ]
  },
  {
   "cell_type": "code",
   "execution_count": null,
   "metadata": {},
   "outputs": [],
   "source": [
    "output = tmp * tmp\n",
    "print(output.min(), output.max())\n",
    "output = 255 * (output - output.min())/(output.max() - output.min())\n",
    "ret, thresholded_output = cv2.threshold(output, 125, 255, cv2.THRESH_BINARY)\n",
    "thresholded_output = thresholded_output.astype(np.uint8)\n",
    "\n",
    "plt.imshow(thresholded_output, cmap=\"gray\")\n",
    "plt.show()"
   ]
  },
  {
   "attachments": {},
   "cell_type": "markdown",
   "metadata": {},
   "source": [
    "Each circle has a radius of scale * sqrt(2) to best cover the area of maximum response of the LoG. Simply drawing circles on points not zeroed out from the threshold results in a lot of overlapping circles. To better visualize blobs an approximation using contours can be used."
   ]
  },
  {
   "cell_type": "code",
   "execution_count": null,
   "metadata": {},
   "outputs": [],
   "source": [
    "fig, ax = plt.subplots()\n",
    "ax.imshow(image)\n",
    "x, y = output.shape\n",
    "for row in range(x):\n",
    "    for column in range(y):\n",
    "        if thresholded_output[row, column] != 0:\n",
    "            c = plt.Circle((column, row), scale*np.sqrt(2), color=\"red\", linewidth = 0.5, fill=False)\n",
    "            ax.add_patch(c)\n",
    "ax.plot()\n",
    "plt.show()"
   ]
  },
  {
   "attachments": {},
   "cell_type": "markdown",
   "metadata": {},
   "source": [
    "Find contours of the blobs appearing in the previously computed binary image obtained from thresholding."
   ]
  },
  {
   "cell_type": "code",
   "execution_count": null,
   "metadata": {},
   "outputs": [],
   "source": [
    "tmp_image = image.copy()\n",
    "contours, hierarchies = cv2.findContours(thresholded_output, cv2.RETR_LIST, cv2.CHAIN_APPROX_SIMPLE)\n",
    "for i in contours:\n",
    "    cv2.drawContours(tmp_image, [i], -1, (0, 255, 0), 2)\n",
    "plt.imshow(tmp_image)"
   ]
  },
  {
   "attachments": {},
   "cell_type": "markdown",
   "metadata": {},
   "source": [
    "Compute the centers of the previously found contours. Method taken from https://www.geeksforgeeks.org/python-opencv-find-center-of-contour/"
   ]
  },
  {
   "cell_type": "code",
   "execution_count": null,
   "metadata": {},
   "outputs": [],
   "source": [
    "centers = []\n",
    "for i in contours:\n",
    "    M = cv2.moments(i)\n",
    "    if M['m00'] != 0:\n",
    "        cx = int(M['m10']/M['m00'])\n",
    "        cy = int(M['m01']/M['m00'])\n",
    "        centers.append((cx, cy))\n",
    "    print(f\"x: {cx} y: {cy} scale: {scale}\")"
   ]
  },
  {
   "attachments": {},
   "cell_type": "markdown",
   "metadata": {},
   "source": [
    "The computed centers are used as centers of the circles representing the found blobs. This is an approximation used to prune the otherwise large number of overlapping circles."
   ]
  },
  {
   "cell_type": "code",
   "execution_count": null,
   "metadata": {},
   "outputs": [],
   "source": [
    "fig, ax = plt.subplots()\n",
    "ax.imshow(image)\n",
    "for x, y in centers:\n",
    "    c = plt.Circle((x, y), scale*np.sqrt(2), color=\"red\", linewidth = 1.5, fill=False)\n",
    "    ax.add_patch(c)\n",
    "ax.plot()\n",
    "plt.show()"
   ]
  },
  {
   "attachments": {},
   "cell_type": "markdown",
   "metadata": {},
   "source": [
    "# Image 1"
   ]
  },
  {
   "cell_type": "code",
   "execution_count": null,
   "metadata": {},
   "outputs": [],
   "source": [
    "image = cv2.imread(\"/home/davide/uni/ISPR-Midterms/Midterm1/MSRC_ObjCategImageDatabase_v1/sunflowers.jpg\")\n",
    "image = cv2.cvtColor(image, cv2.COLOR_BGR2RGB)\n",
    "gray = cv2.cvtColor(image, cv2.COLOR_RGB2GRAY)\n",
    "\n",
    "outputs = []\n",
    "scales = [1, 5, 10, 20, 30]\n",
    "for scale in scales:\n",
    "    output = blob_detection(gray, scale)\n",
    "    output = 255 * (output - output.min())/(output.max() - output.min())\n",
    "    outputs.append((output * output, scale))\n"
   ]
  },
  {
   "cell_type": "raw",
   "metadata": {},
   "source": [
    "ret, thresholded_output = cv2.threshold(outputs[0][0], 200, 255, cv2.THRESH_BINARY)\n",
    "thresholded_output = thresholded_output.astype(np.uint8)\n",
    "contours = cv2.findContours(thresholded_output, cv2.RETR_TREE, cv2.CHAIN_APPROX_SIMPLE)[1]\n",
    "\n",
    "plt.imshow(thresholded_output, cmap=\"gray\")\n",
    "plt.show()"
   ]
  },
  {
   "cell_type": "code",
   "execution_count": null,
   "metadata": {},
   "outputs": [],
   "source": [
    "centers = []\n",
    "for output, scale in outputs:\n",
    "    ret, thresholded_output = cv2.threshold(output, 150, 255, cv2.THRESH_BINARY)\n",
    "    thresholded_output = thresholded_output.astype(np.uint8)\n",
    "    contours = cv2.findContours(thresholded_output,cv2.RETR_TREE,cv2.CHAIN_APPROX_SIMPLE)[-2]\n",
    "    for i in contours:\n",
    "        M = cv2.moments(i)\n",
    "        if M['m00'] != 0:\n",
    "            cx = int(M['m10']/M['m00'])\n",
    "            cy = int(M['m01']/M['m00'])\n",
    "            centers.append((cx, cy, scale))\n",
    "        # print(f\"x: {cx} y: {cy} scale: {scale}\")"
   ]
  },
  {
   "cell_type": "code",
   "execution_count": null,
   "metadata": {},
   "outputs": [],
   "source": [
    "fig, ax = plt.subplots()\n",
    "ax.imshow(image)\n",
    "for x, y, scale in centers:\n",
    "    c = plt.Circle((x, y), scale*np.sqrt(2), color=\"red\", linewidth = 1.5, fill=False)\n",
    "    ax.add_patch(c)\n",
    "# x, y = output.shape\n",
    "# for row in range(x):\n",
    "#     for column in range(y):\n",
    "#         if thresholded_output[row, column] != 0:\n",
    "#             c = plt.Circle((column, row), scale*np.sqrt(2), color=\"red\", linewidth = 0.5, fill=False)\n",
    "#             ax.add_patch(c)\n",
    "ax.plot()\n",
    "plt.show()"
   ]
  },
  {
   "cell_type": "code",
   "execution_count": null,
   "metadata": {},
   "outputs": [],
   "source": []
  },
  {
   "cell_type": "code",
   "execution_count": null,
   "metadata": {},
   "outputs": [],
   "source": []
  }
 ],
 "metadata": {
  "kernelspec": {
   "display_name": "ISPR1",
   "language": "python",
   "name": "python3"
  },
  "language_info": {
   "codemirror_mode": {
    "name": "ipython",
    "version": 3
   },
   "file_extension": ".py",
   "mimetype": "text/x-python",
   "name": "python",
   "nbconvert_exporter": "python",
   "pygments_lexer": "ipython3",
   "version": "3.11.0"
  },
  "orig_nbformat": 4,
  "vscode": {
   "interpreter": {
    "hash": "d70428cb802d46b2c43ec30f1deb3d9860be8b4379734460defbf308ff892fa9"
   }
  }
 },
 "nbformat": 4,
 "nbformat_minor": 2
}
