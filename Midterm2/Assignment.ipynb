{
 "cells": [
  {
   "attachments": {},
   "cell_type": "markdown",
   "metadata": {},
   "source": [
    "# Midterm 2 Assignment 3 Davide Amadei"
   ]
  },
  {
   "cell_type": "code",
   "execution_count": null,
   "metadata": {},
   "outputs": [],
   "source": [
    "import numpy as np\n",
    "import cv2 as cv\n",
    "from matplotlib import pyplot as plt\n",
    "from typing import Iterator\n",
    "import time\n",
    "from sewar.full_ref import uqi"
   ]
  },
  {
   "cell_type": "code",
   "execution_count": null,
   "metadata": {},
   "outputs": [],
   "source": [
    "def show_img(image: np.ndarray, gray: bool = True, title: str = None) -> None:\n",
    "    \"\"\"simple utility to show images with axes disabled\n",
    "\n",
    "    Parameters\n",
    "    ----------\n",
    "    image : np.ndarray\n",
    "        image to show\n",
    "    gray : bool, optional\n",
    "        if true show image in grayscale, by default True\n",
    "    \"\"\"\n",
    "    if gray:\n",
    "        plt.imshow(image, cmap=\"gray\")\n",
    "    else:\n",
    "        plt.imshow(image)\n",
    "    if title is not None:\n",
    "        plt.title(title)\n",
    "    plt.axis(\"off\")\n",
    "    plt.show()"
   ]
  },
  {
   "cell_type": "code",
   "execution_count": null,
   "metadata": {},
   "outputs": [],
   "source": [
    "def mse(x, y):\n",
    "    return ((x-y)**2).mean()"
   ]
  },
  {
   "attachments": {},
   "cell_type": "markdown",
   "metadata": {},
   "source": [
    "## Function to read MNIST dataset"
   ]
  },
  {
   "cell_type": "code",
   "execution_count": null,
   "metadata": {},
   "outputs": [],
   "source": [
    "def read_MNIST_file(path: str, reshape: bool = False):\n",
    "    with open(path, \"rb\") as f:\n",
    "        magic = int.from_bytes(f.read(4))\n",
    "        n_items = int.from_bytes(f.read(4))\n",
    "        #image file\n",
    "        if magic == 2051:\n",
    "            n_rows = int.from_bytes(f.read(4))\n",
    "            n_columns = int.from_bytes(f.read(4))\n",
    "            if reshape:\n",
    "                shape = (n_items, n_rows, n_columns)\n",
    "            else:\n",
    "                shape = (n_items, n_rows * n_columns)\n",
    "            images = np.ndarray(shape)\n",
    "            for i in range(n_items):\n",
    "                img_buffer = f.read(n_rows*n_columns)\n",
    "                img = np.frombuffer(img_buffer, np.uint8)\n",
    "                if reshape:\n",
    "                    img = np.reshape(img, shape)\n",
    "                images[i] = img\n",
    "            return (shape, images/255)\n",
    "        #label file\n",
    "        elif magic == 2049:\n",
    "            pass\n",
    "        else:\n",
    "            raise ValueError(\"wrong file format\")"
   ]
  },
  {
   "cell_type": "code",
   "execution_count": null,
   "metadata": {},
   "outputs": [],
   "source": [
    "tr_img_shape, tr_images = read_MNIST_file(\"./data/train-images-idx3-ubyte\")\n",
    "ts_img_shape, ts_images = read_MNIST_file(\"./data/t10k-images-idx3-ubyte\")"
   ]
  },
  {
   "attachments": {},
   "cell_type": "markdown",
   "metadata": {},
   "source": [
    "## Restricted Boltzmann Machine implementation"
   ]
  },
  {
   "cell_type": "code",
   "execution_count": null,
   "metadata": {},
   "outputs": [],
   "source": [
    "def sigmoid(x):\n",
    "    return 1/(1+np.exp(-x))\n",
    "\n",
    "class RBM:\n",
    "    def __init__(self, v_units: int, h_units:int, seed:int = None):\n",
    "        self._rng = np.random.default_rng(seed)\n",
    "        self._seed = seed\n",
    "        self._weights = self._rng.normal(size=(v_units, h_units))\n",
    "        self._bv = self._rng.normal(size=v_units)\n",
    "        self._bh = self._rng.normal(size=h_units)\n",
    "        # self._bv = self._rng.uniform(0, 1, size=v_units)\n",
    "        # self._bh = self._rng.uniform(0, 1, size=h_units)\n",
    "    \n",
    "    @staticmethod\n",
    "    def get_minibatches(\n",
    "        x: np.ndarray, batchsize: int\n",
    "    ) -> Iterator[tuple[np.ndarray, np.ndarray]]:\n",
    "        \"\"\"Returns minibatches of given size over (x, y).\n",
    "\n",
    "        Parameters\n",
    "        ----------\n",
    "        x : np.ndarray\n",
    "            data array\n",
    "        batchsize : int\n",
    "            batch size of yielded minibatches\n",
    "\n",
    "        Yields\n",
    "        ------\n",
    "        Iterator[tuple[np.ndarray,np.ndarray]]\n",
    "            iterator over minibatches\n",
    "        \"\"\"\n",
    "        if batchsize in [None, 0, -1]:\n",
    "            batchsize = x.shape[0]\n",
    "        size = x.shape[0]\n",
    "        batchtotal, remainder = divmod(size, batchsize)\n",
    "        for i in range(batchtotal):\n",
    "            mini_x = x[i * batchsize : (i + 1) * batchsize]\n",
    "            yield mini_x\n",
    "        if remainder > 0:\n",
    "            yield (x[batchtotal * batchsize :])\n",
    "\n",
    "    def sample_data(self, data):\n",
    "        return self._rng.binomial(1, p=data)\n",
    "    \n",
    "    def reset(self):\n",
    "        self._rng = np.random.default_rng(self._seed)\n",
    "        self._weights = self._rng.normal(size=self._weights.shape)\n",
    "        self._bv = self._rng.normal(size=self._bv.shape)\n",
    "        self._bh = self._rng.normal(size=self._bh.shape)\n",
    "        \n",
    "    def fit(self, tr_data, max_epochs=10, lr=1e-3, batchsize=128, img_shape=None):\n",
    "        start = time.time()\n",
    "        tot_uqi_time = 0\n",
    "        for i in range(max_epochs):\n",
    "            shuffled_data = tr_data[self._rng.permutation(tr_data.shape[0])]\n",
    "            loss_list = []\n",
    "            if img_shape is not None:\n",
    "                uqi_loss_list = []\n",
    "                epoch_uqi_time = 0\n",
    "            for j, batch in enumerate(RBM.get_minibatches(shuffled_data, batchsize)):\n",
    "                \n",
    "                sampled_data = self.sample_data(batch)\n",
    "                h_prob0 = sigmoid(np.dot(sampled_data, self._weights) + self._bh)\n",
    "                sampled_h0 = self.sample_data(h_prob0)\n",
    "\n",
    "                wake = np.dot(sampled_data.T, sampled_h0)\n",
    "\n",
    "                recon_data_prob = sigmoid(np.dot(sampled_h0, self._weights.T) + self._bv)\n",
    "                recon_data = self.sample_data(recon_data_prob)\n",
    "\n",
    "                h_prob1 = sigmoid(np.dot(recon_data, self._weights) + self._bh)\n",
    "                # sampled_h1 = self.sample_data(h_prob1)\n",
    "                \n",
    "                dream = np.dot(recon_data.T, h_prob1)\n",
    "\n",
    "                self._weights += lr * (wake - dream)/batch.shape[0]\n",
    "                self._bv += lr * (np.sum(sampled_data, axis=0) - \n",
    "                                  np.sum(recon_data, axis=0))/batch.shape[0]\n",
    "                self._bh += lr * (np.sum(h_prob0, axis=0) - \n",
    "                                  np.sum(h_prob1, axis=0))/batch.shape[0]\n",
    "                if img_shape != None:\n",
    "                    uqi_time_start = time.time()\n",
    "                    uqi_loss_batch = 0\n",
    "                    reshaped_batch = np.reshape(batch, (batch.shape[0],) + img_shape)\n",
    "                    reshaped_recon_data = np.reshape(recon_data_prob, (recon_data_prob.shape[0],) + img_shape)\n",
    "                    for t in range(batch.shape[0]):\n",
    "                        uqi_loss_batch += uqi(reshaped_batch[t], reshaped_recon_data[t])\n",
    "                    uqi_loss_list.append(uqi_loss_batch / batch.shape[0])\n",
    "                    uqi_time_end = time.time()\n",
    "                    epoch_uqi_time += uqi_time_end - uqi_time_start\n",
    "                loss_list.append(mse(batch, recon_data_prob))\n",
    "            loss_avg = np.round(np.mean(loss_list), 4)\n",
    "            loss_std = np.round(np.std(loss_list), 4)\n",
    "            \n",
    "            if img_shape is not None:\n",
    "                uqi_loss_avg = np.round(np.mean(uqi_loss_list), 4)\n",
    "                uqi_loss_std = np.round(np.std(uqi_loss_list), 4)\n",
    "                tot_uqi_time += epoch_uqi_time\n",
    "            end = time.time()\n",
    "            eta = (end - start) * (max_epochs - i - 1) / (i + 1)\n",
    "            if img_shape is not None:\n",
    "                print(f\"Time spent on UQI computation: {np.round(epoch_uqi_time, 2)}\")\n",
    "                print(f\"Epoch number {i+1} done. MSE: {loss_avg} \\xB1 {loss_std}. \"\n",
    "                    f\"UQI: {uqi_loss_avg} \\xB1 {uqi_loss_std} \"\n",
    "                    f\"Elapsed time: {np.round(end-start, 2)}s. ETA: {np.round(eta, 2)}s\")\n",
    "            else:\n",
    "                print(f\"Epoch number {i+1} done. MSE: {loss_avg} \\xB1 {loss_std}. \"\n",
    "                    f\"Elapsed time: {np.round(end-start, 2)}s. ETA: {np.round(eta, 2)}s\")\n",
    "        if img_shape is not None:\n",
    "            print(f\"Total time spend\")\n",
    "    \n",
    "    def reconstruct(self, ts_data):\n",
    "        sampled_data = self.sample_data(ts_data)\n",
    "\n",
    "        h_prob0 = sigmoid(np.dot(sampled_data, self._weights) + self._bh)\n",
    "        sampled_h0 = self.sample_data(h_prob0)\n",
    "        \n",
    "        recon_data_prob = sigmoid(np.dot(sampled_h0, self._weights.T) + self._bv)\n",
    "        return recon_data_prob\n"
   ]
  },
  {
   "cell_type": "code",
   "execution_count": null,
   "metadata": {},
   "outputs": [],
   "source": [
    "boltzmann_machine = RBM(tr_img_shape[1], 100)"
   ]
  },
  {
   "cell_type": "code",
   "execution_count": null,
   "metadata": {},
   "outputs": [],
   "source": [
    "boltzmann_machine.reset()\n",
    "boltzmann_machine.fit(tr_images, 20, 1, 50, (28,28))"
   ]
  },
  {
   "cell_type": "code",
   "execution_count": null,
   "metadata": {},
   "outputs": [],
   "source": [
    "reconstructed_test = boltzmann_machine.reconstruct(ts_images)\n",
    "reconstructed_test_reshaped = np.reshape(reconstructed_test, (reconstructed_test.shape[0], 28, 28))\n",
    "ts_images_reshaped = np.reshape(ts_images, (ts_images.shape[0], 28, 28))"
   ]
  },
  {
   "cell_type": "code",
   "execution_count": null,
   "metadata": {},
   "outputs": [],
   "source": [
    "loss_avg = np.round(mse(ts_images, reconstructed_test), 4)\n",
    "loss_std = np.round(((ts_images - reconstructed_test)**2).std(), 4)\n",
    "uqi_loss_list = []\n",
    "for i in range(ts_images_reshaped.shape[0]):\n",
    "    uqi_loss_list.append(uqi(ts_images_reshaped[i], reconstructed_test_reshaped[i]))\n",
    "uqi_loss_avg = np.round(np.mean(uqi_loss_list), 4)\n",
    "uqi_loss_std = np.round(np.std(uqi_loss_list), 4)\n",
    "print(f\"MSE: {loss_avg} \\xB1 {loss_std}\\n\"\n",
    "      f\"UQI: {uqi_loss_avg} \\xB1 {uqi_loss_std}\")"
   ]
  },
  {
   "cell_type": "code",
   "execution_count": null,
   "metadata": {},
   "outputs": [],
   "source": [
    "index = \n",
    "print(uqi(ts_images_reshaped[index], reconstructed_test_reshaped[index]))\n",
    "show_img(ts_images_reshaped[index])\n",
    "show_img(reconstructed_test_reshaped[index])"
   ]
  },
  {
   "cell_type": "code",
   "execution_count": null,
   "metadata": {},
   "outputs": [],
   "source": [
    "w_test = boltzmann_machine._weights\n",
    "w_test = np.reshape(w_test, (28, 28, w_test.shape[1]))\n",
    "show_img(w_test[:, :, 40])"
   ]
  },
  {
   "cell_type": "code",
   "execution_count": null,
   "metadata": {},
   "outputs": [],
   "source": [
    "test = np.ones((20, 3))\n",
    "lul = np.random.random(3)\n",
    "print(lul)\n",
    "print(test)\n",
    "print(test - lul)\n",
    "v = test - lul\n",
    "c = test - np.broadcast_to(lul, test.shape)\n",
    "print(v-c)"
   ]
  },
  {
   "cell_type": "code",
   "execution_count": null,
   "metadata": {},
   "outputs": [],
   "source": [
    "test = np.random.random(10)\n",
    "print(np.random.binomial(1, p=test))"
   ]
  },
  {
   "cell_type": "code",
   "execution_count": null,
   "metadata": {},
   "outputs": [],
   "source": []
  },
  {
   "cell_type": "code",
   "execution_count": null,
   "metadata": {},
   "outputs": [],
   "source": []
  }
 ],
 "metadata": {
  "kernelspec": {
   "display_name": "ISPR1",
   "language": "python",
   "name": "python3"
  },
  "language_info": {
   "codemirror_mode": {
    "name": "ipython",
    "version": 3
   },
   "file_extension": ".py",
   "mimetype": "text/x-python",
   "name": "python",
   "nbconvert_exporter": "python",
   "pygments_lexer": "ipython3",
   "version": "3.11.0"
  },
  "orig_nbformat": 4
 },
 "nbformat": 4,
 "nbformat_minor": 2
}
